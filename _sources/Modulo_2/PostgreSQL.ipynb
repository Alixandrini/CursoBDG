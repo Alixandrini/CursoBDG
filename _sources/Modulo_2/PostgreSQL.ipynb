{
 "cells": [
  {
   "cell_type": "markdown",
   "metadata": {},
   "source": [
    "# O que é o PostgreSQL ?\n",
    "\n",
    "O PostgreSQL é um poderoso sistema de banco de dados objeto-relacional de código aberto que usa e estende a linguagem SQL combinada com muitos recursos que armazenam e dimensionam com segurança as cargas de trabalho de dados mais complicadas. As origens do PostgreSQL remontam a 1986 como parte do projeto POSTGRES na Universidade da Califórnia em Berkeley e tem mais de 35 anos de desenvolvimento ativo na plataforma principal.\n",
    "\n",
    "O PostgreSQL ganhou uma forte reputação por sua arquitetura comprovada, confiabilidade, integridade de dados, conjunto de recursos robusto, extensibilidade e a dedicação da comunidade de código aberto por trás do software para fornecer consistentemente soluções inovadoras e de alto desempenho. O PostgreSQL é executado em todos os principais sistemas operacionais, é compatível com ACID desde 2001 e tem complementos poderosos, como o popular extensor de banco de dados geoespacial PostGIS. Não é nenhuma surpresa que o PostgreSQL tenha se tornado o banco de dados relacional de código aberto preferido de muitas pessoas e organizações. Hoje sem dúvida nenhuma é um dos banco de dados objeto-relacional de código aberto mais avançados do mundo.\n",
    "\n"
   ]
  },
  {
   "cell_type": "markdown",
   "metadata": {},
   "source": []
  },
  {
   "cell_type": "markdown",
   "metadata": {},
   "source": []
  }
 ],
 "metadata": {
  "language_info": {
   "name": "python"
  }
 },
 "nbformat": 4,
 "nbformat_minor": 2
}
