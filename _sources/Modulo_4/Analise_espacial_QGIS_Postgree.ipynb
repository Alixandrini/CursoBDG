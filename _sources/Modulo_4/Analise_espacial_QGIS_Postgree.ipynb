{
 "cells": [
  {
   "cell_type": "markdown",
   "metadata": {},
   "source": [
    "# Trabalhando com Banco de dados PostGIS na interface do QGIS \n",
    "\n",
    "\n",
    "18.2.1. ★☆☆ Follow Along: Managing PostGIS Databases with DB Manager\n",
    "18.2.2. ★☆☆ Follow Along: Creating a New Table\n",
    "18.2.3. ★☆☆ Follow Along: Basic Database Administration\n",
    "18.2.4. ★☆☆ Follow Along: Executing SQL Queries with DB Manager\n",
    "18.2.5. Importar datos en una base de datos con el Administrador de BBDD\n",
    "18.2.6. Exportando datos desde una base de datos con el Administrador de BBDD\n",
    "18.2.7. In Conclusion\n",
    "18.2.8. What’s Next?\n",
    "\n",
    "## Modelo de feição simples\n",
    "\n",
    "https://docs.qgis.org/3.40/pt_BR/docs/training_manual/spatial_databases/index.html\n",
    "\n",
    "## importação e exportação \n",
    "\n",
    "## Adding a filtered set of records as a Layer\n",
    "\n",
    "\n",
    "## Queries Espaciais\n",
    "\n",
    "\n",
    "## Construção de Geometrias\n",
    "\n"
   ]
  },
  {
   "cell_type": "markdown",
   "metadata": {},
   "source": []
  }
 ],
 "metadata": {
  "language_info": {
   "name": "python"
  }
 },
 "nbformat": 4,
 "nbformat_minor": 2
}
