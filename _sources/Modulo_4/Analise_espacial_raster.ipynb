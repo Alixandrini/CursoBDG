{
 "cells": [
  {
   "cell_type": "markdown",
   "metadata": {},
   "source": [
    "# Análise espacial raster\n",
    "\n",
    "## Aplicação de Técnicas de Processamento Digital de Imagens\n",
    "\n",
    "## Extração de Atributos e Normalização de Valores\n",
    "\n",
    "## Explorando a extensão WKT Raster do PostGIS para armazenamento e manipulação"
   ]
  }
 ],
 "metadata": {
  "language_info": {
   "name": "python"
  }
 },
 "nbformat": 4,
 "nbformat_minor": 2
}
