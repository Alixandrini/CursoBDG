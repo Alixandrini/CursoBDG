{
 "cells": [
  {
   "cell_type": "markdown",
   "metadata": {},
   "source": [
    "# Análise Espacial Vetorial\n",
    "\n",
    "A estatística espacial permite analisar e entender o que está acontecendo em um determinado conjunto de dados vetoriais. O QGIS inclui muitas ferramentas úteis para análise estatística.\n",
    "\n",
    "## Criando um Dataset\n",
    "\n",
    "## Estatistica Básica\n",
    "\n",
    "## Disntancia entre pontos\n",
    "\n",
    "## Análise de vizinhança próxima\n",
    "\n",
    "## Coordenada média\n",
    "\n",
    "## Histograma\n",
    "\n",
    "## Interpolação espacial"
   ]
  }
 ],
 "metadata": {
  "language_info": {
   "name": "python"
  }
 },
 "nbformat": 4,
 "nbformat_minor": 2
}
