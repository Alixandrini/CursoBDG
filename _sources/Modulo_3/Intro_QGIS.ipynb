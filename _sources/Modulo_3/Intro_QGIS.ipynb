{
 "cells": [
  {
   "cell_type": "markdown",
   "metadata": {},
   "source": [
    "# O que é QGIS?\n",
    "O QGIS é um aplicativo GIS desktop gratuito e de código aberto. Você pode usá-lo para visualizar e editar dados vetoriais (pontos, linhas, \n",
    "polígonos) e dados raster (imagens). Ele pode trabalhar com uma variedade de formatos de arquivo (shapefile, geopackage, etc.) e \n",
    "bancos de dados (PostgreSQL, SQL Server, etc.). O QGIS é uma ferramenta poderosa que inclui funções de geoprocessamento e análise espacial, \n",
    "bem como recursos de cartografia/estilização. É uma ótima solução GIS para organizações porque permite que sua \n",
    "organização forneça ferramentas para qualquer pessoa que precise delas sem se preocupar com custos de licença crescentes. O QGIS também \n",
    "tem um ótimo ecossistema de plugins que são constantemente adicionados para expandir sua funcionalidade."
   ]
  }
 ],
 "metadata": {
  "language_info": {
   "name": "python"
  }
 },
 "nbformat": 4,
 "nbformat_minor": 2
}
