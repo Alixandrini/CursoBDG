{
 "cells": [
  {
   "cell_type": "markdown",
   "metadata": {},
   "source": [
    "# Desenvolvimento de Pluing para QGIS\n",
    "\n",
    "O QGIS é um software de código aberto e gratuito específico para SIG. Além de proporcionar inúmeras ferramentas e possibilidades para se tratar dados espacializados, existe a possibilidade de se adicionar funcionalidades por meio de plugins (pequenos programas dentro do QGIS). Esses plugins são desenvolvidos para tarefas específicas e podem ser compartilhados com os usuários do QGIS.\n",
    "\n",
    "Já para facilitar o desenvolvimento da interface gráfica do usuário para um plugin em construção, têm-se o Qt Designer (THE QT COMPANY, 2020a) que é um\n",
    "software bem intuitivo e específico para essa tarefa de desenvolver a parte visual que o usuário final verá e fará a sua interação com o QGIS, pela entrada ou seleção de\n",
    "dados. O Qt Designer (THE QT COMPANY, 2020a) já vem instalado por padrão no QGIS.\n",
    "\n",
    "\n",
    "Vale ressaltar que, por se tratar de uma comunidade internacional de usuários do QGIS, este proporciona também em sua versão padrão o Qt Linguist (THE QT\n",
    "COMPANY, 2020b) que é uma ferramenta para auxiliar nas traduções dos plugins desenvolvidos, facilitando que os usuários tenham a mesma versão de um plugin\n",
    "disponibilizado em diversos idiomas.\n",
    "\n",
    "É possível criar plugins usando a linguagem de programação Python. Em comparação com plugins clássicos criados em C++, esses devem ser mais fáceis de escrever, entender, manter e distribuir devido à natureza dinâmica da linguagem Python.\n",
    "\n",
    "Desde a introdução dos plugins Python no QGIS, vários plugins apareceram - na página wiki Plugin Repositories você pode encontrar alguns deles, você pode usar a fonte deles para aprender mais sobre programação com PyQGIS ou descobrir se você não está duplicando o esforço de desenvolvimento. A equipe do QGIS também mantém um Repositório oficial de complementos python. Pronto para criar um plugin, mas não tem ideia do que fazer? A página wiki Python Plugin Ideas lista os desejos da comunidade!"
   ]
  }
 ],
 "metadata": {
  "language_info": {
   "name": "python"
  }
 },
 "nbformat": 4,
 "nbformat_minor": 2
}
